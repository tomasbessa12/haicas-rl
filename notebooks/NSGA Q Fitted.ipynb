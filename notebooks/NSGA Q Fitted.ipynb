{
 "cells": [
  {
   "cell_type": "code",
   "execution_count": 1,
   "metadata": {},
   "outputs": [],
   "source": [
    "import numpy as np\n",
    "from matplotlib import pyplot as plt\n",
    "from mpl_toolkits.mplot3d import Axes3D\n",
    "import time\n",
    "import random\n",
    "\n",
    "from circuit.vcamp import VCAmpMOOProb\n",
    "from circuit import ngspice as ng\n",
    "from circuit import nsga2"
   ]
  },
  {
   "cell_type": "code",
   "execution_count": 2,
   "metadata": {},
   "outputs": [
    {
     "name": "stdout",
     "output_type": "stream",
     "text": [
      "['c:\\\\Tomás\\\\tomasist\\\\5ano\\\\Tese\\\\code\\\\aida-rl\\\\notebooks', 'C:\\\\Tomás\\\\tomasist\\\\5ano\\\\Tese\\\\code\\\\aida-rl\\\\src', 'C:\\\\Users\\\\tomas\\\\anaconda3\\\\envs\\\\env_pytorch\\\\python38.zip', 'C:\\\\Users\\\\tomas\\\\anaconda3\\\\envs\\\\env_pytorch\\\\DLLs', 'C:\\\\Users\\\\tomas\\\\anaconda3\\\\envs\\\\env_pytorch\\\\lib', 'C:\\\\Users\\\\tomas\\\\anaconda3\\\\envs\\\\env_pytorch', '', 'C:\\\\Users\\\\tomas\\\\anaconda3\\\\envs\\\\env_pytorch\\\\lib\\\\site-packages', 'C:\\\\Users\\\\tomas\\\\anaconda3\\\\envs\\\\env_pytorch\\\\lib\\\\site-packages\\\\win32', 'C:\\\\Users\\\\tomas\\\\anaconda3\\\\envs\\\\env_pytorch\\\\lib\\\\site-packages\\\\win32\\\\lib', 'C:\\\\Users\\\\tomas\\\\anaconda3\\\\envs\\\\env_pytorch\\\\lib\\\\site-packages\\\\Pythonwin', 'C:\\\\Users\\\\tomas\\\\anaconda3\\\\envs\\\\env_pytorch\\\\lib\\\\site-packages\\\\IPython\\\\extensions', 'C:\\\\Users\\\\tomas\\\\.ipython', 'C:\\\\Users\\\\tomas\\\\AppData\\\\Roaming\\\\Python\\\\Python38\\\\site-packages']\n"
     ]
    }
   ],
   "source": [
    "import os\n",
    "import sys\n",
    "\n",
    "print(sys.path)\n"
   ]
  },
  {
   "cell_type": "code",
   "execution_count": 5,
   "metadata": {},
   "outputs": [],
   "source": [
    "seed = 17  \n",
    "np.random.seed(seed)\n",
    "random.seed(seed)\n",
    "\n",
    "sat_conditions = {}\n",
    "sat_conditions[\"vov_mpm0\"] = 0.05\n",
    "sat_conditions[\"vov_mpm1\"] = 0.05\n",
    "sat_conditions[\"vov_mpm2\"] = 0.05\n",
    "sat_conditions[\"vov_mpm3\"] = 0.05\n",
    "sat_conditions[\"vov_mnm4\"] = 0.05\n",
    "sat_conditions[\"vov_mnm5\"] = 0.05\n",
    "sat_conditions[\"vov_mnm6\"] = 0.05\n",
    "sat_conditions[\"vov_mnm7\"] = 0.05\n",
    "sat_conditions[\"vov_mnm8\"] = 0.05\n",
    "sat_conditions[\"vov_mnm9\"] = 0.05\n",
    "sat_conditions[\"vov_mnm10\"] = 0.05\n",
    "sat_conditions[\"vov_mnm11\"] = 0.05\n",
    "\n",
    "sat_conditions[\"delta_mpm0\"] = 0.1\n",
    "sat_conditions[\"delta_mpm1\"] = 0.1\n",
    "sat_conditions[\"delta_mpm2\"] = 0.1\n",
    "sat_conditions[\"delta_mpm3\"] = 0.1\n",
    "sat_conditions[\"delta_mnm4\"] = 0.1\n",
    "sat_conditions[\"delta_mnm5\"] = 0.1\n",
    "sat_conditions[\"delta_mnm6\"] = 0.1\n",
    "sat_conditions[\"delta_mnm7\"] = 0.1\n",
    "sat_conditions[\"delta_mnm8\"] = 0.1\n",
    "sat_conditions[\"delta_mnm9\"] = 0.1\n",
    "sat_conditions[\"delta_mnm10\"] = 0.1\n",
    "sat_conditions[\"delta_mnm11\"] = 0.1\n",
    "\n",
    "gt={'gdc': 50,'gbw': 35e6,'pm' : 45.0, 'fom': 900}\n",
    "gt.update(sat_conditions)\n",
    "\n",
    "circuit = VCAmpMOOProb(\n",
    "ng.Specifications(objective=[('idd', 1), ('gbw', -1), ('gdc', -1)  ], lt={'idd': 35e-5,'pm' : 90.0},gt=gt))\n"
   ]
  },
  {
   "cell_type": "code",
   "execution_count": 6,
   "metadata": {},
   "outputs": [
    {
     "ename": "AttributeError",
     "evalue": "module 'time' has no attribute 'clock'",
     "output_type": "error",
     "traceback": [
      "\u001b[1;31m---------------------------------------------------------------------------\u001b[0m",
      "\u001b[1;31mAttributeError\u001b[0m                            Traceback (most recent call last)",
      "\u001b[1;32m~\\AppData\\Local\\Temp/ipykernel_21684/3041227559.py\u001b[0m in \u001b[0;36m<module>\u001b[1;34m\u001b[0m\n\u001b[0;32m      1\u001b[0m \u001b[0mget_ipython\u001b[0m\u001b[1;33m(\u001b[0m\u001b[1;33m)\u001b[0m\u001b[1;33m.\u001b[0m\u001b[0mrun_line_magic\u001b[0m\u001b[1;33m(\u001b[0m\u001b[1;34m'matplotlib'\u001b[0m\u001b[1;33m,\u001b[0m \u001b[1;34m'inline'\u001b[0m\u001b[1;33m)\u001b[0m\u001b[1;33m\u001b[0m\u001b[1;33m\u001b[0m\u001b[0m\n\u001b[0;32m      2\u001b[0m \u001b[0ma\u001b[0m \u001b[1;33m=\u001b[0m \u001b[0mnsga2\u001b[0m\u001b[1;33m.\u001b[0m\u001b[0mNsga2\u001b[0m\u001b[1;33m(\u001b[0m\u001b[0mcircuit\u001b[0m\u001b[1;33m,\u001b[0m \u001b[0mpop_size\u001b[0m\u001b[1;33m=\u001b[0m\u001b[1;36m100\u001b[0m\u001b[1;33m,\u001b[0m \u001b[0meva\u001b[0m\u001b[1;33m=\u001b[0m\u001b[1;36m100\u001b[0m\u001b[1;33m*\u001b[0m\u001b[1;36m200\u001b[0m\u001b[1;33m)\u001b[0m\u001b[1;33m\u001b[0m\u001b[1;33m\u001b[0m\u001b[0m\n\u001b[1;32m----> 3\u001b[1;33m \u001b[0mpop_dec\u001b[0m\u001b[1;33m,\u001b[0m \u001b[0mpop_obj\u001b[0m\u001b[1;33m,\u001b[0m \u001b[0mpop_cstr\u001b[0m \u001b[1;33m=\u001b[0m \u001b[0ma\u001b[0m\u001b[1;33m.\u001b[0m\u001b[0mrun\u001b[0m\u001b[1;33m(\u001b[0m\u001b[1;33m)\u001b[0m\u001b[1;33m\u001b[0m\u001b[1;33m\u001b[0m\u001b[0m\n\u001b[0m",
      "\u001b[1;32mC:\\Tomás\\tomasist\\5ano\\Tese\\code\\aida-rl\\src\\circuit\\nsga2.py\u001b[0m in \u001b[0;36mrun\u001b[1;34m(self)\u001b[0m\n\u001b[0;32m    403\u001b[0m \u001b[1;33m\u001b[0m\u001b[0m\n\u001b[0;32m    404\u001b[0m     \u001b[1;32mdef\u001b[0m \u001b[0mrun\u001b[0m\u001b[1;33m(\u001b[0m\u001b[0mself\u001b[0m\u001b[1;33m)\u001b[0m\u001b[1;33m:\u001b[0m\u001b[1;33m\u001b[0m\u001b[1;33m\u001b[0m\u001b[0m\n\u001b[1;32m--> 405\u001b[1;33m         \u001b[0mstart\u001b[0m \u001b[1;33m=\u001b[0m \u001b[0mtime\u001b[0m\u001b[1;33m.\u001b[0m\u001b[0mclock\u001b[0m\u001b[1;33m(\u001b[0m\u001b[1;33m)\u001b[0m\u001b[1;33m\u001b[0m\u001b[1;33m\u001b[0m\u001b[0m\n\u001b[0m\u001b[0;32m    406\u001b[0m         \u001b[1;32mif\u001b[0m \u001b[0mself\u001b[0m\u001b[1;33m.\u001b[0m\u001b[0mdecs\u001b[0m \u001b[1;32mis\u001b[0m \u001b[1;32mNone\u001b[0m\u001b[1;33m:\u001b[0m\u001b[1;33m\u001b[0m\u001b[1;33m\u001b[0m\u001b[0m\n\u001b[0;32m    407\u001b[0m             \u001b[0mpop_dec\u001b[0m\u001b[1;33m,\u001b[0m \u001b[0mpop_obj\u001b[0m\u001b[1;33m,\u001b[0m \u001b[0mpop_cstr\u001b[0m \u001b[1;33m=\u001b[0m \u001b[0mself\u001b[0m\u001b[1;33m.\u001b[0m\u001b[0mprob\u001b[0m\u001b[1;33m.\u001b[0m\u001b[0minitialize\u001b[0m\u001b[1;33m(\u001b[0m\u001b[0mself\u001b[0m\u001b[1;33m.\u001b[0m\u001b[0mN\u001b[0m\u001b[1;33m)\u001b[0m\u001b[1;33m\u001b[0m\u001b[1;33m\u001b[0m\u001b[0m\n",
      "\u001b[1;31mAttributeError\u001b[0m: module 'time' has no attribute 'clock'"
     ]
    }
   ],
   "source": [
    "%matplotlib inline\n",
    "a = nsga2.Nsga2(circuit, pop_size=100, eva=100*200)\n",
    "pop_dec, pop_obj, pop_cstr = a.run()"
   ]
  },
  {
   "cell_type": "code",
   "execution_count": 7,
   "metadata": {},
   "outputs": [
    {
     "ename": "NameError",
     "evalue": "name 'pop_obj' is not defined",
     "output_type": "error",
     "traceback": [
      "\u001b[1;31m---------------------------------------------------------------------------\u001b[0m",
      "\u001b[1;31mNameError\u001b[0m                                 Traceback (most recent call last)",
      "\u001b[1;32m~\\AppData\\Local\\Temp/ipykernel_21684/1452733349.py\u001b[0m in \u001b[0;36m<module>\u001b[1;34m\u001b[0m\n\u001b[0;32m      1\u001b[0m \u001b[0mget_ipython\u001b[0m\u001b[1;33m(\u001b[0m\u001b[1;33m)\u001b[0m\u001b[1;33m.\u001b[0m\u001b[0mrun_line_magic\u001b[0m\u001b[1;33m(\u001b[0m\u001b[1;34m'matplotlib'\u001b[0m\u001b[1;33m,\u001b[0m \u001b[1;34m'notebook'\u001b[0m\u001b[1;33m)\u001b[0m\u001b[1;33m\u001b[0m\u001b[1;33m\u001b[0m\u001b[0m\n\u001b[1;32m----> 2\u001b[1;33m \u001b[0mfront_no\u001b[0m\u001b[1;33m,\u001b[0m \u001b[0mmax_front\u001b[0m \u001b[1;33m=\u001b[0m \u001b[0mnsga2\u001b[0m\u001b[1;33m.\u001b[0m\u001b[0mfnd_sort\u001b[0m\u001b[1;33m(\u001b[0m\u001b[0mpop_obj\u001b[0m\u001b[1;33m,\u001b[0m \u001b[0mpop_cstr\u001b[0m\u001b[1;33m)\u001b[0m\u001b[1;33m\u001b[0m\u001b[1;33m\u001b[0m\u001b[0m\n\u001b[0m\u001b[0;32m      3\u001b[0m \u001b[0mnon_dominated\u001b[0m \u001b[1;33m=\u001b[0m \u001b[0mpop_obj\u001b[0m\u001b[1;33m[\u001b[0m\u001b[0mfront_no\u001b[0m \u001b[1;33m==\u001b[0m \u001b[1;36m1\u001b[0m\u001b[1;33m,\u001b[0m \u001b[1;33m:\u001b[0m\u001b[1;33m]\u001b[0m\u001b[1;33m\u001b[0m\u001b[1;33m\u001b[0m\u001b[0m\n\u001b[0;32m      4\u001b[0m \u001b[1;33m\u001b[0m\u001b[0m\n\u001b[0;32m      5\u001b[0m \u001b[1;33m\u001b[0m\u001b[0m\n",
      "\u001b[1;31mNameError\u001b[0m: name 'pop_obj' is not defined"
     ]
    }
   ],
   "source": [
    "%matplotlib notebook\n",
    "front_no, max_front = nsga2.fnd_sort(pop_obj, pop_cstr)\n",
    "non_dominated = pop_obj[front_no == 1, :]\n",
    "        \n",
    "        \n",
    "ax = plt.subplot(111, projection='3d')\n",
    "ax.set_xlabel(\"IDD [uA]\")\n",
    "ax.set_ylabel(\"GBW [MHz]\")\n",
    "ax.set_zlabel(\"GCD [dB]\")\n",
    "ax.scatter(non_dominated[:,0]*1e6, -non_dominated[:,1]*1e-6,-non_dominated[:,2])\n",
    "\n",
    "b = a\n",
    "\n",
    "plt.show()"
   ]
  },
  {
   "cell_type": "code",
   "execution_count": 5,
   "metadata": {},
   "outputs": [
    {
     "data": {
      "text/plain": [
       "array([[0, 0, 0, 0],\n",
       "       [0, 0, 1, 0]])"
      ]
     },
     "execution_count": 5,
     "metadata": {},
     "output_type": "execute_result"
    }
   ],
   "source": [
    "(np.random.random((2, 4)) < 0.3 ).astype(int)\n"
   ]
  },
  {
   "cell_type": "code",
   "execution_count": 12,
   "metadata": {},
   "outputs": [
    {
     "name": "stdout",
     "output_type": "stream",
     "text": [
      "Help on function savez in module numpy.lib.npyio:\n",
      "\n",
      "savez(file, *args, **kwds)\n",
      "    Save several arrays into a single file in uncompressed ``.npz`` format.\n",
      "    \n",
      "    If arguments are passed in with no keywords, the corresponding variable\n",
      "    names, in the ``.npz`` file, are 'arr_0', 'arr_1', etc. If keyword\n",
      "    arguments are given, the corresponding variable names, in the ``.npz``\n",
      "    file will match the keyword names.\n",
      "    \n",
      "    Parameters\n",
      "    ----------\n",
      "    file : str or file\n",
      "        Either the file name (string) or an open file (file-like object)\n",
      "        where the data will be saved. If file is a string or a Path, the\n",
      "        ``.npz`` extension will be appended to the file name if it is not\n",
      "        already there.\n",
      "    args : Arguments, optional\n",
      "        Arrays to save to the file. Since it is not possible for Python to\n",
      "        know the names of the arrays outside `savez`, the arrays will be saved\n",
      "        with names \"arr_0\", \"arr_1\", and so on. These arguments can be any\n",
      "        expression.\n",
      "    kwds : Keyword arguments, optional\n",
      "        Arrays to save to the file. Arrays will be saved in the file with the\n",
      "        keyword names.\n",
      "    \n",
      "    Returns\n",
      "    -------\n",
      "    None\n",
      "    \n",
      "    See Also\n",
      "    --------\n",
      "    save : Save a single array to a binary file in NumPy format.\n",
      "    savetxt : Save an array to a file as plain text.\n",
      "    savez_compressed : Save several arrays into a compressed ``.npz`` archive\n",
      "    \n",
      "    Notes\n",
      "    -----\n",
      "    The ``.npz`` file format is a zipped archive of files named after the\n",
      "    variables they contain.  The archive is not compressed and each file\n",
      "    in the archive contains one variable in ``.npy`` format. For a\n",
      "    description of the ``.npy`` format, see `numpy.lib.format` or the\n",
      "    NumPy Enhancement Proposal\n",
      "    http://docs.scipy.org/doc/numpy/neps/npy-format.html\n",
      "    \n",
      "    When opening the saved ``.npz`` file with `load` a `NpzFile` object is\n",
      "    returned. This is a dictionary-like object which can be queried for\n",
      "    its list of arrays (with the ``.files`` attribute), and for the arrays\n",
      "    themselves.\n",
      "    \n",
      "    Examples\n",
      "    --------\n",
      "    >>> from tempfile import TemporaryFile\n",
      "    >>> outfile = TemporaryFile()\n",
      "    >>> x = np.arange(10)\n",
      "    >>> y = np.sin(x)\n",
      "    \n",
      "    Using `savez` with \\*args, the arrays are saved with default names.\n",
      "    \n",
      "    >>> np.savez(outfile, x, y)\n",
      "    >>> outfile.seek(0) # Only needed here to simulate closing & reopening file\n",
      "    >>> npzfile = np.load(outfile)\n",
      "    >>> npzfile.files\n",
      "    ['arr_1', 'arr_0']\n",
      "    >>> npzfile['arr_0']\n",
      "    array([0, 1, 2, 3, 4, 5, 6, 7, 8, 9])\n",
      "    \n",
      "    Using `savez` with \\**kwds, the arrays are saved with the keyword names.\n",
      "    \n",
      "    >>> outfile = TemporaryFile()\n",
      "    >>> np.savez(outfile, x=x, y=y)\n",
      "    >>> outfile.seek(0)\n",
      "    >>> npzfile = np.load(outfile)\n",
      "    >>> npzfile.files\n",
      "    ['y', 'x']\n",
      "    >>> npzfile['x']\n",
      "    array([0, 1, 2, 3, 4, 5, 6, 7, 8, 9])\n",
      "\n"
     ]
    }
   ],
   "source": [
    "np.savez(\"runs1.dump\", a.parents_dec)\n",
    "[iter, ...] = pop_dec[mating_pool, :]\n",
    "            self.parents_obj[iter, ...] = pop_obj[mating_pool, :]\n",
    "            self.parents_cstr[iter, ...] = pop_cstr[mating_pool, :]\n",
    "             \n",
    "            offspring_dec, offspring_obj, offspring_cstr  = self.prob.individual(self.prob.variation(pop_dec[mating_pool, :]))\n",
    "            \n",
    "            self.children_dec[iter, ...] = offspring_dec[mating_pool, :]\n",
    "            self.children_obj[iter, ...] = offspring_obj[mating_pool, :]\n",
    "            self.children_cstr[iter, ...] = offspring_cstr[mating_pool, :]\n"
   ]
  },
  {
   "cell_type": "code",
   "execution_count": 5,
   "metadata": {},
   "outputs": [
    {
     "name": "stdout",
     "output_type": "stream",
     "text": [
      "[10, 15, [], [], [], [], [], [], [], []]\n"
     ]
    }
   ],
   "source": [
    "a = [[]] * 10\n",
    "a[0] = 10\n",
    "a[1] = 15\n",
    "print (a)"
   ]
  },
  {
   "cell_type": "code",
   "execution_count": 21,
   "metadata": {},
   "outputs": [
    {
     "name": "stdout",
     "output_type": "stream",
     "text": [
      "[[None, None, None, None, None, None, None, None, None, None, None, None, None, None, None, None, None, None, None], [None, None, None, None, None, None, None, None, None, None, None, None, None, None, None, None, None, None, None], [None, None, None, None, None, None, None, None, None, None, None, None, None, None, None, None, None, None, None]]\n"
     ]
    }
   ],
   "source": [
    "meas_names = (\"S11_down\",\"S11\",\"S11_up\",\n",
    "                \"S12_down\",\"S12\",\"S12_up\",\n",
    "                \"S21_down\",\"S21\",\"S21_up\",\n",
    "                \"S22_down\",\"S22\",\"S22_up\",\n",
    "                \"NF\",\"NF_up\",\"NF_down\",\n",
    "                \"power\",\"idd\",\"PowerdBm\",\"IIP3\")\n",
    "  \n",
    "  \n",
    "  \n",
    "measures = [[None]*len( meas_names) for i in range(3)] \n",
    "print (measures)"
   ]
  },
  {
   "cell_type": "raw",
   "metadata": {},
   "source": [
    "measures[1][meas_names.index(\"S11\")] = 10\n",
    "print (measures)"
   ]
  },
  {
   "cell_type": "markdown",
   "metadata": {},
   "source": []
  },
  {
   "cell_type": "code",
   "execution_count": 22,
   "metadata": {},
   "outputs": [
    {
     "name": "stdout",
     "output_type": "stream",
     "text": [
      "1\n"
     ]
    }
   ],
   "source": [
    "measures[0][meas_names.index(\"S11\")] = 10\n",
    "print (meas_names.index(\"S11\"))"
   ]
  },
  {
   "cell_type": "code",
   "execution_count": 23,
   "metadata": {},
   "outputs": [],
   "source": [
    "measures[0][2] = 15\n"
   ]
  },
  {
   "cell_type": "code",
   "execution_count": 24,
   "metadata": {},
   "outputs": [
    {
     "name": "stdout",
     "output_type": "stream",
     "text": [
      "[[None, 10, 15, None, None, None, None, None, None, None, None, None, None, None, None, None, None, None, None], [None, None, None, None, None, None, None, None, None, None, None, None, None, None, None, None, None, None, None], [None, None, None, None, None, None, None, None, None, None, None, None, None, None, None, None, None, None, None]]\n"
     ]
    }
   ],
   "source": [
    "print (measures)\n"
   ]
  },
  {
   "cell_type": "code",
   "execution_count": 26,
   "metadata": {},
   "outputs": [
    {
     "name": "stdout",
     "output_type": "stream",
     "text": [
      "<class 'int'>\n"
     ]
    }
   ],
   "source": [
    "print (type(int(\"10\")))"
   ]
  },
  {
   "cell_type": "code",
   "execution_count": null,
   "metadata": {},
   "outputs": [],
   "source": []
  }
 ],
 "metadata": {
  "kernelspec": {
   "display_name": "Python 3",
   "language": "python",
   "name": "python3"
  },
  "language_info": {
   "codemirror_mode": {
    "name": "ipython",
    "version": 3
   },
   "file_extension": ".py",
   "mimetype": "text/x-python",
   "name": "python",
   "nbconvert_exporter": "python",
   "pygments_lexer": "ipython3",
   "version": "3.8.12"
  }
 },
 "nbformat": 4,
 "nbformat_minor": 2
}
